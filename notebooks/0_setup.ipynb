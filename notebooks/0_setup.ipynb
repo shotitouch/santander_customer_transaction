{
 "cells": [
  {
   "cell_type": "code",
   "execution_count": null,
   "id": "62bdfd0b",
   "metadata": {
    "vscode": {
     "languageId": "plaintext"
    }
   },
   "outputs": [],
   "source": [
    "# Mount Google Drive (optional, if you store data there)\n",
    "from google.colab import drive\n",
    "drive.mount('/content/drive')\n",
    "\n",
    "# Clone your GitHub repo (if not already cloned)\n",
    "!git clone https://github.com/shotitouch/santander_customer_transaction\n",
    "\n",
    "%cd santander_customer_transaction\n",
    "\n",
    "# Configure Git identity (only once per Colab session)\n",
    "!git config --global user.name \"Shotitouch Tuangcharoentip\"\n",
    "!git config --global user.email \"shotitouch@gmail.com\"\n",
    "\n",
    "# Install dependencies\n",
    "!pip install -r requirements.txt\n",
    "\n",
    "# Optional: add src/ to path to import modules\n",
    "import sys\n",
    "sys.path.append('/content/santander_customer_transaction/src')\n"
   ]
  },
  {
   "cell_type": "code",
   "execution_count": null,
   "id": "d12b6907",
   "metadata": {
    "vscode": {
     "languageId": "plaintext"
    }
   },
   "outputs": [],
   "source": []
  }
 ],
 "metadata": {
  "language_info": {
   "name": "python"
  }
 },
 "nbformat": 4,
 "nbformat_minor": 5
}
